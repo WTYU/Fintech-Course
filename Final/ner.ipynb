{
 "cells": [
  {
   "cell_type": "code",
   "execution_count": 2,
   "metadata": {},
   "outputs": [
    {
     "name": "stdout",
     "output_type": "stream",
     "text": [
      "\n",
      " Co-occurence matrix : \n",
      "\n",
      "[1.0, 0.027, 0.0, 0.092, 0.0]\n",
      "[0.027, 1.0, 0.0, 0.154, 0.135]\n",
      "[0.0, 0.0, 1.0, 0.0, 0.0]\n",
      "[0.092, 0.154, 0.0, 1.0, 0.351]\n",
      "[0.0, 0.135, 0.0, 0.351, 1.0]\n",
      "\n",
      " Heatmap : \n"
     ]
    },
    {
     "data": {
      "image/png": "[encoded data removed]",
      "text/plain": [
       "<Figure size 432x288 with 2 Axes>"
      ]
     },
     "metadata": {
      "needs_background": "light"
     },
     "output_type": "display_data"
    },
    {
     "name": "stdout",
     "output_type": "stream",
     "text": [
      "\n",
      " Network : \n"
     ]
    },
    {
     "name": "stderr",
     "output_type": "stream",
     "text": [
      "D:\\Anaconda3\\lib\\site-packages\\networkx\\drawing\\nx_pylab.py:611: MatplotlibDeprecationWarning: isinstance(..., numbers.Number)\n",
      "  if cb.is_numlike(alpha):\n",
      "D:\\Anaconda3\\lib\\site-packages\\networkx\\drawing\\nx_pylab.py:611: MatplotlibDeprecationWarning: isinstance(..., numbers.Number)\n",
      "  if cb.is_numlike(alpha):\n",
      "D:\\Anaconda3\\lib\\site-packages\\networkx\\drawing\\nx_pylab.py:611: MatplotlibDeprecationWarning: isinstance(..., numbers.Number)\n",
      "  if cb.is_numlike(alpha):\n",
      "D:\\Anaconda3\\lib\\site-packages\\networkx\\drawing\\nx_pylab.py:611: MatplotlibDeprecationWarning: isinstance(..., numbers.Number)\n",
      "  if cb.is_numlike(alpha):\n",
      "D:\\Anaconda3\\lib\\site-packages\\networkx\\drawing\\nx_pylab.py:611: MatplotlibDeprecationWarning: isinstance(..., numbers.Number)\n",
      "  if cb.is_numlike(alpha):\n",
      "D:\\Anaconda3\\lib\\site-packages\\networkx\\drawing\\nx_pylab.py:611: MatplotlibDeprecationWarning: isinstance(..., numbers.Number)\n",
      "  if cb.is_numlike(alpha):\n",
      "D:\\Anaconda3\\lib\\site-packages\\networkx\\drawing\\nx_pylab.py:611: MatplotlibDeprecationWarning: isinstance(..., numbers.Number)\n",
      "  if cb.is_numlike(alpha):\n",
      "D:\\Anaconda3\\lib\\site-packages\\networkx\\drawing\\nx_pylab.py:611: MatplotlibDeprecationWarning: isinstance(..., numbers.Number)\n",
      "  if cb.is_numlike(alpha):\n",
      "D:\\Anaconda3\\lib\\site-packages\\networkx\\drawing\\nx_pylab.py:611: MatplotlibDeprecationWarning: isinstance(..., numbers.Number)\n",
      "  if cb.is_numlike(alpha):\n",
      "D:\\Anaconda3\\lib\\site-packages\\networkx\\drawing\\nx_pylab.py:611: MatplotlibDeprecationWarning: isinstance(..., numbers.Number)\n",
      "  if cb.is_numlike(alpha):\n",
      "D:\\Anaconda3\\lib\\site-packages\\networkx\\drawing\\nx_pylab.py:611: MatplotlibDeprecationWarning: isinstance(..., numbers.Number)\n",
      "  if cb.is_numlike(alpha):\n",
      "D:\\Anaconda3\\lib\\site-packages\\networkx\\drawing\\nx_pylab.py:611: MatplotlibDeprecationWarning: isinstance(..., numbers.Number)\n",
      "  if cb.is_numlike(alpha):\n",
      "D:\\Anaconda3\\lib\\site-packages\\networkx\\drawing\\nx_pylab.py:611: MatplotlibDeprecationWarning: isinstance(..., numbers.Number)\n",
      "  if cb.is_numlike(alpha):\n",
      "D:\\Anaconda3\\lib\\site-packages\\networkx\\drawing\\nx_pylab.py:611: MatplotlibDeprecationWarning: isinstance(..., numbers.Number)\n",
      "  if cb.is_numlike(alpha):\n",
      "D:\\Anaconda3\\lib\\site-packages\\networkx\\drawing\\nx_pylab.py:611: MatplotlibDeprecationWarning: isinstance(..., numbers.Number)\n",
      "  if cb.is_numlike(alpha):\n"
     ]
    },
    {
     "data": {
      "image/png": "[encoded data removed]",
      "text/plain": [
       "<Figure size 432x288 with 1 Axes>"
      ]
     },
     "metadata": {
      "needs_background": "light"
     },
     "output_type": "display_data"
    }
   ],
   "source": [
    "# -*- coding: utf-8 -*-\n",
    "\"\"\"\n",
    "Created on Wed Mar 20 20:06:39 2019\n",
    "\n",
    "@author: Dennis\n",
    "\"\"\"\n",
    "import pandas as pd\n",
    "import jieba\n",
    "import networkx as nx\n",
    "import matplotlib.pyplot as plt\n",
    "import seaborn as sn\n",
    "from math import pow\n",
    "\n",
    "\n",
    "max_node = 300\n",
    "min_node = 30\n",
    "font_size = 15\n",
    "node_color = 'r'\n",
    "\n",
    "''' Words '''\n",
    "df = pd.read_csv('customerService.csv')   # file\n",
    "dflist = df[\"客戶事件描述\"]\n",
    "\n",
    "data=[]\n",
    "for i in dflist:\n",
    "    temp1=jieba.cut(i.replace(' ',','), cut_all=False)\n",
    "    temp2=[]\n",
    "    for j in temp1:\n",
    "        temp2.append(str(j))\n",
    "    data.append(temp2)\n",
    "\n",
    "#print(data)\n",
    "#print()\n",
    "#\n",
    "#\n",
    "\n",
    "\n",
    "''' Rule base // NER '''\n",
    "# rb\n",
    "rb = ['Q1', 'ECP', 'Stock', 'IPO' ,'MAIL']   # test graph \n",
    "# chinese nodes\n",
    "# NER\n",
    "\n",
    "\n",
    "''' TDM // Co-occurence matrix '''\n",
    "d_vs_rb = []   #  data vs rule base\n",
    "for client in data:\n",
    "    show = []\n",
    "    for i in rb:  \n",
    "        ct = 0\n",
    "        for j in client:\n",
    "            if(j == i):\n",
    "                ct = ct +1\n",
    "        show.append(ct)\n",
    "    d_vs_rb.append(show)\n",
    "\n",
    "co_o=[]   # Co-occurence \n",
    "for i in range(len(rb)):\n",
    "    temp=[]\n",
    "    for j in range(len(rb)):\n",
    "        summ,x2,y2 = 0,0,0   # Cosine Normalization \n",
    "        for s in range(len(data)):\n",
    "            summ = summ + d_vs_rb[s][i] * d_vs_rb[s][j] \n",
    "            x2 = x2 + pow(d_vs_rb[s][i],2)\n",
    "            y2 = y2 + pow(d_vs_rb[s][j],2)\n",
    "        normalize = pow(x2 * y2, 1/2)\n",
    "        if(normalize == 0):\n",
    "            temp.append(0)\n",
    "        else:\n",
    "            temp.append(round(summ / normalize ,3 ))\n",
    "    co_o.append(temp)    \n",
    "print(\"\\n Co-occurence matrix : \\n\")  \n",
    "for i in co_o:\n",
    "    print(i)\n",
    "# \n",
    "#\n",
    "\n",
    "\n",
    "''' Graph // Heatmap // Network '''  \n",
    "co = co_o # use real data \n",
    "\n",
    "# Heatmap\n",
    "print(\"\\n Heatmap : \")\n",
    "df=pd.DataFrame(co_o , columns = rb )\n",
    "sn.heatmap(df ,  annot=True , cmap='YlGnBu')   # opt - annot=True\n",
    "plt.savefig('Heatmap.jpg')\n",
    "plt.show()\n",
    "\n",
    "G = nx.Graph()\n",
    "# network    \n",
    "for i in range(len(rb)):\n",
    "    for j in range(len(rb)):\n",
    "        G.add_edge(rb[i], rb[j])\n",
    "\n",
    "pos = nx.spring_layout(G)  # positions for all nodes\n",
    "\n",
    "# nodes\n",
    "nodeSize=[]\n",
    "for i in range(len(rb)):\n",
    "    con = 0\n",
    "    for j in range(len(rb)):\n",
    "        if(co[i][j] != 0):          # co #\n",
    "            con = con + 1\n",
    "    nodeSize.append(max_node * (con / len(rb)) + min_node)\n",
    "nx.draw_networkx_nodes(G, pos,nodelist = rb, node_size = nodeSize ,node_color = node_color)\n",
    "\n",
    "# edges\n",
    "for i in range(len(rb)):\n",
    "    for j in range(len(rb)):\n",
    "        if(co[i][j]!=0):            # co #\n",
    "            nx.draw_networkx_edges(G, pos, \n",
    "                                   edgelist = [(rb[i],rb[j])],\n",
    "                                   width = pow(co[i][j],2) * 10 + 0.1 ,\n",
    "                                   edge_color = 'g')   # co #\n",
    "\n",
    "# labels\n",
    "nx.draw_networkx_labels(G, pos, font_size = font_size, font_family='sans-serif')\n",
    "\n",
    "plt.axis('off')\n",
    "print(\"\\n Network : \")\n",
    "plt.savefig('Network.jpg')\n",
    "plt.show()\n"
   ]
  },
  {
   "cell_type": "code",
   "execution_count": null,
   "metadata": {},
   "outputs": [],
   "source": []
  },
  {
   "cell_type": "code",
   "execution_count": null,
   "metadata": {},
   "outputs": [],
   "source": []
  }
 ],
 "metadata": {
  "kernelspec": {
   "display_name": "Python 3",
   "language": "python",
   "name": "python3"
  },
  "language_info": {
   "codemirror_mode": {
    "name": "ipython",
    "version": 3
   },
   "file_extension": ".py",
   "mimetype": "text/x-python",
   "name": "python",
   "nbconvert_exporter": "python",
   "pygments_lexer": "ipython3",
   "version": "3.7.1"
  }
 },
 "nbformat": 4,
 "nbformat_minor": 2
}
