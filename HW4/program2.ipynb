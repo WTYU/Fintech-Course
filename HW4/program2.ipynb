import datetime, time, pytz
import requests
import json
import pandas as pd
import calendar
from scipy import stats
import  numpy  as  np 
import math
